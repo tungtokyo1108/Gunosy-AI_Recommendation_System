{
 "cells": [
  {
   "cell_type": "code",
   "execution_count": 1,
   "metadata": {},
   "outputs": [],
   "source": [
    "import time \n",
    "import urllib\n",
    "import requests \n",
    "import bs4\n",
    "import pandas as pd\n",
    "import numpy as np\n",
    "import matplotlib.pyplot as plt\n",
    "from sklearn.utils import shuffle "
   ]
  },
  {
   "cell_type": "code",
   "execution_count": 2,
   "metadata": {},
   "outputs": [],
   "source": [
    "news_enter = pd.read_csv(\"News_entertainment.csv\")\n",
    "news_sport = pd.read_csv(\"News_sport.csv\")\n",
    "news_inter = pd.read_csv(\"News_interting.csv\")\n",
    "news_domestic = pd.read_csv(\"News_domestic.csv\")\n",
    "news_oversea = pd.read_csv(\"News_oversea.csv\")\n",
    "news_column = pd.read_csv(\"News_column.csv\")\n",
    "news_IT = pd.read_csv(\"News_IT.csv\")\n",
    "news_gourmet = pd.read_csv(\"News_gourmet.csv\")"
   ]
  },
  {
   "cell_type": "code",
   "execution_count": 4,
   "metadata": {},
   "outputs": [
    {
     "data": {
      "text/html": [
       "<div>\n",
       "<style scoped>\n",
       "    .dataframe tbody tr th:only-of-type {\n",
       "        vertical-align: middle;\n",
       "    }\n",
       "\n",
       "    .dataframe tbody tr th {\n",
       "        vertical-align: top;\n",
       "    }\n",
       "\n",
       "    .dataframe thead th {\n",
       "        text-align: right;\n",
       "    }\n",
       "</style>\n",
       "<table border=\"1\" class=\"dataframe\">\n",
       "  <thead>\n",
       "    <tr style=\"text-align: right;\">\n",
       "      <th></th>\n",
       "      <th>Category</th>\n",
       "      <th>Title</th>\n",
       "      <th>Article</th>\n",
       "      <th>PageLink</th>\n",
       "    </tr>\n",
       "  </thead>\n",
       "  <tbody>\n",
       "    <tr>\n",
       "      <th>0</th>\n",
       "      <td>エンタメ</td>\n",
       "      <td>田中みな実、インスタ“最後”の投稿「楽しかったねっ」「またねっ」</td>\n",
       "      <td>グノシー フリーアナウンサーの田中みな実（３３）が３１日、自身のインスタグラムを更新。初の写...</td>\n",
       "      <td>https://gunosy.com/articles/at8zN</td>\n",
       "    </tr>\n",
       "    <tr>\n",
       "      <th>1</th>\n",
       "      <td>エンタメ</td>\n",
       "      <td>伊原六花「1万点のでき」スクールカレンダーは自信作</td>\n",
       "      <td>グノシー 女優、伊原六花（２０）が１日、東京・神田神保町の書泉グランデで「スクールカレンダー...</td>\n",
       "      <td>https://gunosy.com/articles/RFvOr</td>\n",
       "    </tr>\n",
       "    <tr>\n",
       "      <th>2</th>\n",
       "      <td>エンタメ</td>\n",
       "      <td>かまいたち山内、執念の結婚！？インスタに「いいね」を押した女性の顔ぜんぶ見て......</td>\n",
       "      <td>グノシー 山内健司（かまいたち）【撮影：竹内みちまろ】 かまいたち山内健司が、2月1日放送の...</td>\n",
       "      <td>https://gunosy.com/articles/RyNMf</td>\n",
       "    </tr>\n",
       "    <tr>\n",
       "      <th>3</th>\n",
       "      <td>エンタメ</td>\n",
       "      <td>新田真剣佑&amp;北村匠海『サヨナラまでの30分』にそれぞれの思い</td>\n",
       "      <td>グノシー 『サヨナラまでの30分』が公開中の二人 俳優の新田真剣佑と北村匠海が1日、都内で行...</td>\n",
       "      <td>https://gunosy.com/articles/R1i5x</td>\n",
       "    </tr>\n",
       "    <tr>\n",
       "      <th>4</th>\n",
       "      <td>エンタメ</td>\n",
       "      <td>北村匠海「4回泣いた」新田真剣佑とダブル主演映画</td>\n",
       "      <td>グノシー 映画「サヨナラまでの30分」公開御礼舞台あいさつに出席した、左から北村匠海、新田真...</td>\n",
       "      <td>https://gunosy.com/articles/auMJO</td>\n",
       "    </tr>\n",
       "  </tbody>\n",
       "</table>\n",
       "</div>"
      ],
      "text/plain": [
       "  Category                                         Title  \\\n",
       "0     エンタメ              田中みな実、インスタ“最後”の投稿「楽しかったねっ」「またねっ」   \n",
       "1     エンタメ                     伊原六花「1万点のでき」スクールカレンダーは自信作   \n",
       "2     エンタメ  かまいたち山内、執念の結婚！？インスタに「いいね」を押した女性の顔ぜんぶ見て......   \n",
       "3     エンタメ                新田真剣佑&北村匠海『サヨナラまでの30分』にそれぞれの思い   \n",
       "4     エンタメ                      北村匠海「4回泣いた」新田真剣佑とダブル主演映画   \n",
       "\n",
       "                                             Article  \\\n",
       "0  グノシー フリーアナウンサーの田中みな実（３３）が３１日、自身のインスタグラムを更新。初の写...   \n",
       "1  グノシー 女優、伊原六花（２０）が１日、東京・神田神保町の書泉グランデで「スクールカレンダー...   \n",
       "2  グノシー 山内健司（かまいたち）【撮影：竹内みちまろ】 かまいたち山内健司が、2月1日放送の...   \n",
       "3  グノシー 『サヨナラまでの30分』が公開中の二人 俳優の新田真剣佑と北村匠海が1日、都内で行...   \n",
       "4  グノシー 映画「サヨナラまでの30分」公開御礼舞台あいさつに出席した、左から北村匠海、新田真...   \n",
       "\n",
       "                            PageLink  \n",
       "0  https://gunosy.com/articles/at8zN  \n",
       "1  https://gunosy.com/articles/RFvOr  \n",
       "2  https://gunosy.com/articles/RyNMf  \n",
       "3  https://gunosy.com/articles/R1i5x  \n",
       "4  https://gunosy.com/articles/auMJO  "
      ]
     },
     "execution_count": 4,
     "metadata": {},
     "output_type": "execute_result"
    }
   ],
   "source": [
    "news_enter.head()"
   ]
  },
  {
   "cell_type": "code",
   "execution_count": 5,
   "metadata": {},
   "outputs": [
    {
     "data": {
      "text/plain": [
       "(800, 4)"
      ]
     },
     "execution_count": 5,
     "metadata": {},
     "output_type": "execute_result"
    }
   ],
   "source": [
    "news_enter.shape"
   ]
  },
  {
   "cell_type": "code",
   "execution_count": 6,
   "metadata": {},
   "outputs": [
    {
     "data": {
      "text/plain": [
       "(1100, 4)"
      ]
     },
     "execution_count": 6,
     "metadata": {},
     "output_type": "execute_result"
    }
   ],
   "source": [
    "news_sport.shape"
   ]
  },
  {
   "cell_type": "code",
   "execution_count": 7,
   "metadata": {},
   "outputs": [
    {
     "data": {
      "text/plain": [
       "(600, 4)"
      ]
     },
     "execution_count": 7,
     "metadata": {},
     "output_type": "execute_result"
    }
   ],
   "source": [
    "news_inter.shape"
   ]
  },
  {
   "cell_type": "code",
   "execution_count": 8,
   "metadata": {},
   "outputs": [
    {
     "data": {
      "text/plain": [
       "(600, 4)"
      ]
     },
     "execution_count": 8,
     "metadata": {},
     "output_type": "execute_result"
    }
   ],
   "source": [
    "news_domestic.shape"
   ]
  },
  {
   "cell_type": "code",
   "execution_count": 9,
   "metadata": {},
   "outputs": [
    {
     "data": {
      "text/plain": [
       "(400, 4)"
      ]
     },
     "execution_count": 9,
     "metadata": {},
     "output_type": "execute_result"
    }
   ],
   "source": [
    "news_oversea.shape"
   ]
  },
  {
   "cell_type": "code",
   "execution_count": 10,
   "metadata": {},
   "outputs": [
    {
     "data": {
      "text/plain": [
       "(400, 4)"
      ]
     },
     "execution_count": 10,
     "metadata": {},
     "output_type": "execute_result"
    }
   ],
   "source": [
    "news_column.shape"
   ]
  },
  {
   "cell_type": "code",
   "execution_count": 11,
   "metadata": {},
   "outputs": [
    {
     "data": {
      "text/plain": [
       "(426, 4)"
      ]
     },
     "execution_count": 11,
     "metadata": {},
     "output_type": "execute_result"
    }
   ],
   "source": [
    "news_IT.shape"
   ]
  },
  {
   "cell_type": "code",
   "execution_count": 12,
   "metadata": {},
   "outputs": [
    {
     "data": {
      "text/plain": [
       "(400, 4)"
      ]
     },
     "execution_count": 12,
     "metadata": {},
     "output_type": "execute_result"
    }
   ],
   "source": [
    "news_gourmet.shape"
   ]
  },
  {
   "cell_type": "markdown",
   "metadata": {},
   "source": [
    "In order to avoid the imbalanced classification problems and limitation of my computer, the 400 news are sampled randomly for each of 8 groups."
   ]
  },
  {
   "cell_type": "code",
   "execution_count": 13,
   "metadata": {},
   "outputs": [],
   "source": [
    "news_enter_sample = news_enter.sample(n = 400).reset_index(drop=True)\n",
    "news_sport_sample = news_sport.sample(n = 400).reset_index(drop=True)\n",
    "news_inter_sample = news_inter.sample(n = 400).reset_index(drop=True)\n",
    "news_domestic_sample = news_domestic.sample(n = 400).reset_index(drop=True)\n",
    "news_column_sample = news_column.sample(n = 400).reset_index(drop=True)\n",
    "news_IT_sample = news_IT.sample(n = 400).reset_index(drop=True)\n",
    "news_gourmet_sample = news_gourmet.sample(n = 400).reset_index(drop=True)"
   ]
  },
  {
   "cell_type": "code",
   "execution_count": 14,
   "metadata": {},
   "outputs": [
    {
     "data": {
      "text/plain": [
       "(3200, 4)"
      ]
     },
     "execution_count": 14,
     "metadata": {},
     "output_type": "execute_result"
    }
   ],
   "source": [
    "news = pd.concat([news_enter_sample, news_sport_sample, news_inter_sample, \n",
    "                  news_domestic_sample, news_oversea, news_column_sample, \n",
    "                  news_IT_sample, news_gourmet_sample], ignore_index = True)\n",
    "news_shuffle = shuffle(news).reset_index(drop=True)\n",
    "news_shuffle.shape"
   ]
  },
  {
   "cell_type": "code",
   "execution_count": 15,
   "metadata": {},
   "outputs": [
    {
     "data": {
      "text/html": [
       "<div>\n",
       "<style scoped>\n",
       "    .dataframe tbody tr th:only-of-type {\n",
       "        vertical-align: middle;\n",
       "    }\n",
       "\n",
       "    .dataframe tbody tr th {\n",
       "        vertical-align: top;\n",
       "    }\n",
       "\n",
       "    .dataframe thead th {\n",
       "        text-align: right;\n",
       "    }\n",
       "</style>\n",
       "<table border=\"1\" class=\"dataframe\">\n",
       "  <thead>\n",
       "    <tr style=\"text-align: right;\">\n",
       "      <th></th>\n",
       "      <th>Category</th>\n",
       "      <th>Title</th>\n",
       "      <th>Article</th>\n",
       "      <th>PageLink</th>\n",
       "    </tr>\n",
       "  </thead>\n",
       "  <tbody>\n",
       "    <tr>\n",
       "      <th>0</th>\n",
       "      <td>海外</td>\n",
       "      <td>新型肺炎疑いで足止めの伊客船、体調不良の乗客は陰性 下船可能に</td>\n",
       "      <td>グノシー クルーズ船「コスタ・スメラルダ」が停泊しているイタリア・チビタベッキアの港から出発...</td>\n",
       "      <td>https://gunosy.com/articles/aDdSs</td>\n",
       "    </tr>\n",
       "    <tr>\n",
       "      <th>1</th>\n",
       "      <td>IT・科学</td>\n",
       "      <td>CDKL5欠損症にWHO疾病分類コード=英財団が発表〔BW〕</td>\n",
       "      <td>グノシー 【ビジネスワイヤ】ＣＤＫＬ５欠損症（ＣＤＤ）治療薬開発の英Ｌｏｕｌｏｕ財団と米ＩＦ...</td>\n",
       "      <td>https://gunosy.com/articles/RmvRf</td>\n",
       "    </tr>\n",
       "    <tr>\n",
       "      <th>2</th>\n",
       "      <td>海外</td>\n",
       "      <td>世界中が「他者との共存」を拒否し「離脱」を求め始めた現代について</td>\n",
       "      <td>グノシー 1989年から世界はどう変わったか 「会社を辞めたのだけれど…」と告げに来た友人か...</td>\n",
       "      <td>https://gunosy.com/articles/RdO9x</td>\n",
       "    </tr>\n",
       "    <tr>\n",
       "      <th>3</th>\n",
       "      <td>スポーツ</td>\n",
       "      <td>元近鉄エルビラ氏、武装グループに殺害か 発見時は韓国サムスンユニホーム着用</td>\n",
       "      <td>グノシー ナルシソ・エルビラ氏のNPB通算成績 20歳の息子も犠牲になり、同乗した弟は重体 ...</td>\n",
       "      <td>https://gunosy.com/articles/aOPuX</td>\n",
       "    </tr>\n",
       "    <tr>\n",
       "      <th>4</th>\n",
       "      <td>コラム</td>\n",
       "      <td>大人のマナーです！男子の家にお邪魔するとき、忘れちゃいけないこと・5つ</td>\n",
       "      <td>グノシー みなさんも、カレだけじゃなくてお友達の男子の家にお邪魔する機会があると思います。そ...</td>\n",
       "      <td>https://gunosy.com/articles/af5RN</td>\n",
       "    </tr>\n",
       "  </tbody>\n",
       "</table>\n",
       "</div>"
      ],
      "text/plain": [
       "  Category                                  Title  \\\n",
       "0       海外        新型肺炎疑いで足止めの伊客船、体調不良の乗客は陰性 下船可能に   \n",
       "1    IT・科学         CDKL5欠損症にWHO疾病分類コード=英財団が発表〔BW〕   \n",
       "2       海外       世界中が「他者との共存」を拒否し「離脱」を求め始めた現代について   \n",
       "3     スポーツ  元近鉄エルビラ氏、武装グループに殺害か 発見時は韓国サムスンユニホーム着用   \n",
       "4      コラム    大人のマナーです！男子の家にお邪魔するとき、忘れちゃいけないこと・5つ   \n",
       "\n",
       "                                             Article  \\\n",
       "0  グノシー クルーズ船「コスタ・スメラルダ」が停泊しているイタリア・チビタベッキアの港から出発...   \n",
       "1  グノシー 【ビジネスワイヤ】ＣＤＫＬ５欠損症（ＣＤＤ）治療薬開発の英Ｌｏｕｌｏｕ財団と米ＩＦ...   \n",
       "2  グノシー 1989年から世界はどう変わったか 「会社を辞めたのだけれど…」と告げに来た友人か...   \n",
       "3  グノシー ナルシソ・エルビラ氏のNPB通算成績 20歳の息子も犠牲になり、同乗した弟は重体 ...   \n",
       "4  グノシー みなさんも、カレだけじゃなくてお友達の男子の家にお邪魔する機会があると思います。そ...   \n",
       "\n",
       "                            PageLink  \n",
       "0  https://gunosy.com/articles/aDdSs  \n",
       "1  https://gunosy.com/articles/RmvRf  \n",
       "2  https://gunosy.com/articles/RdO9x  \n",
       "3  https://gunosy.com/articles/aOPuX  \n",
       "4  https://gunosy.com/articles/af5RN  "
      ]
     },
     "execution_count": 15,
     "metadata": {},
     "output_type": "execute_result"
    }
   ],
   "source": [
    "news_shuffle.head()"
   ]
  },
  {
   "cell_type": "code",
   "execution_count": null,
   "metadata": {},
   "outputs": [],
   "source": []
  }
 ],
 "metadata": {
  "kernelspec": {
   "display_name": "Python 3",
   "language": "python",
   "name": "python3"
  },
  "language_info": {
   "codemirror_mode": {
    "name": "ipython",
    "version": 3
   },
   "file_extension": ".py",
   "mimetype": "text/x-python",
   "name": "python",
   "nbconvert_exporter": "python",
   "pygments_lexer": "ipython3",
   "version": "3.6.9"
  }
 },
 "nbformat": 4,
 "nbformat_minor": 2
}
